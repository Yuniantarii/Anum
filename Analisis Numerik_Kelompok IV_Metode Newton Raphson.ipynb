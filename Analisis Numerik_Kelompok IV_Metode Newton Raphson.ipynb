{
 "cells": [
  {
   "cell_type": "markdown",
   "id": "e7f8345f",
   "metadata": {},
   "source": [
    "# METODE NEWTON RAPHSON\n",
    "###### Sumber: https://github.com/topics/newton-raphson?l=c"
   ]
  },
  {
   "cell_type": "markdown",
   "id": "5bdffc3b",
   "metadata": {},
   "source": [
    "### Nama Anggota Kelompok IV:\n",
    "1. I Gede Jaya Kusuma Masuntara (2208541001)\n",
    "2. Ni Komang Ariasih (2208541002)\n",
    "3. Anak Agung Istri Agung Yulia Prameswari (2208541007)\n",
    "4. Putu Agus Arya Suta (2208541012)\n",
    "5. Ni Kadek Yuni Antari (2208541018)\n",
    "6. Ni Kadek Intan Dwi Pratiwi (2208541023)\n",
    "7. Ni Nyoman Ayu Herayanti (2208541027)\n",
    "8. Leonard Bodhi Kumaro (2208541041)"
   ]
  },
  {
   "cell_type": "code",
   "execution_count": 1,
   "id": "f0a1beaf",
   "metadata": {},
   "outputs": [],
   "source": [
    "# import pustaka sympy dan numpy\n",
    "# simpy digunakan untuk matematika simbolis\n",
    "# numpy digunaka untuk perhitungan numerik\n",
    "\n",
    "import sympy as sp\n",
    "import numpy as np"
   ]
  },
  {
   "cell_type": "markdown",
   "id": "3a6094d3",
   "metadata": {},
   "source": [
    "## Contoh Kasus"
   ]
  },
  {
   "cell_type": "markdown",
   "id": "cc6de776",
   "metadata": {},
   "source": [
    "Diketahui fungsi sebagai berikut: f(x) = x^3-x-3. Lakukan iterasi untuk mendapatkan akar atau solusi dari f(x)=0 melalui metode: \n",
    "1. Newton Raphson dengan titik awal (x0) = 0 \n",
    "2. Newton Raphson dengan titik awal (x0) = 2\n",
    "\n",
    "Lalu bandingkan hasil yang didapat! Apakah konvergen atau tidak?"
   ]
  },
  {
   "cell_type": "markdown",
   "id": "b273ebdc",
   "metadata": {},
   "source": [
    "### 1. Newton Raphson dengan titik awal (x0) = 0"
   ]
  },
  {
   "cell_type": "code",
   "execution_count": 2,
   "id": "df6432dd",
   "metadata": {},
   "outputs": [],
   "source": [
    "# Mendefinisikan fungsi dan turunannya\n",
    "\n",
    "x = sp.symbols('x') # mendefinisikan x sebagai variabel simbol\n",
    "f = x**3-x-3        # mendefinisikan fungsi f\n",
    "df = sp.diff(f,x)   # mendefinisikan turunan pertama fungsi f"
   ]
  },
  {
   "cell_type": "code",
   "execution_count": 3,
   "id": "f8f29d5e",
   "metadata": {},
   "outputs": [],
   "source": [
    "# Mengubah fungsi dan turunannya menjadi fungsi numpy\n",
    "f_np = sp.lambdify(x, f, \"numpy\")\n",
    "df_np = sp.lambdify(x, df, \"numpy\")"
   ]
  },
  {
   "cell_type": "code",
   "execution_count": 4,
   "id": "207f8a79",
   "metadata": {},
   "outputs": [],
   "source": [
    "# Menetapkan tebakan awal (x0) = 0\n",
    "x0 = 0"
   ]
  },
  {
   "cell_type": "code",
   "execution_count": 5,
   "id": "72354b89",
   "metadata": {},
   "outputs": [],
   "source": [
    "# Menetapkan toleransi galat\n",
    "toleransi = 1e-6"
   ]
  },
  {
   "cell_type": "code",
   "execution_count": 6,
   "id": "22a6e252",
   "metadata": {},
   "outputs": [
    {
     "name": "stdout",
     "output_type": "stream",
     "text": [
      "Setelah1 iterasi, akarnya adalah P1=-3.0000000000.\n",
      "Setelah2 iterasi, akarnya adalah P2=-1.9615384615.\n",
      "Setelah3 iterasi, akarnya adalah P3=-1.1471759614.\n",
      "Setelah4 iterasi, akarnya adalah P4=-0.0065793715.\n",
      "Setelah5 iterasi, akarnya adalah P5=-3.0003890741.\n",
      "Setelah6 iterasi, akarnya adalah P6=-1.9618181757.\n",
      "Setelah7 iterasi, akarnya adalah P7=-1.1474302285.\n",
      "Setelah8 iterasi, akarnya adalah P8=-0.0072562476.\n",
      "Setelah9 iterasi, akarnya adalah P9=-3.0004731888.\n",
      "Setelah10 iterasi, akarnya adalah P10=-1.9618786464.\n"
     ]
    }
   ],
   "source": [
    "# Melakukan iterasi Newton-Raphson\n",
    "for i in range(10):\n",
    "    x1 = x0-f_np(x0)/df_np(x0)\n",
    "    if abs(x1-x0)<toleransi:\n",
    "        break\n",
    "    x0 = x1\n",
    "    print(f'Setelah{i+1} iterasi, akarnya adalah P{i+1}={x0:.10f}.')"
   ]
  },
  {
   "cell_type": "markdown",
   "id": "a42b8848",
   "metadata": {},
   "source": [
    "Dengan menerapkan metode Newton Raphson dengan titik awal (x0) = 0, tidak diperoleh akar atau solusi dari fungsi: x^3-x-3=0. Maka dari itu, hasil yang di dapat tida konvergen."
   ]
  },
  {
   "cell_type": "markdown",
   "id": "00ac44f5",
   "metadata": {},
   "source": [
    "### 2. Newton Raphson dengan titik awal (x0) = 2"
   ]
  },
  {
   "cell_type": "code",
   "execution_count": 7,
   "id": "844d8440",
   "metadata": {},
   "outputs": [],
   "source": [
    "# Mendefinisikan fungsi dan turunannya\n",
    "\n",
    "x = sp.symbols('x') # mendefinisikan x sebagai variabel simbol\n",
    "f = x**3-x-3        # mendefinisikan fungsi f\n",
    "df = sp.diff(f,x)   # mendefinisikan turunan pertama fungsi f"
   ]
  },
  {
   "cell_type": "code",
   "execution_count": 8,
   "id": "4a1f3c57",
   "metadata": {},
   "outputs": [],
   "source": [
    "# Mengubah fungsi dan turunannya menjadi fungsi numpy\n",
    "f_np = sp.lambdify(x, f, \"numpy\")\n",
    "df_np = sp.lambdify(x, df, \"numpy\")"
   ]
  },
  {
   "cell_type": "code",
   "execution_count": 9,
   "id": "088384cc",
   "metadata": {},
   "outputs": [],
   "source": [
    "# Menetapkan tebakan awal (x0) = 2\n",
    "x0 = 2"
   ]
  },
  {
   "cell_type": "code",
   "execution_count": 10,
   "id": "5a04bda9",
   "metadata": {},
   "outputs": [],
   "source": [
    "# Menetapkan toleransi galat\n",
    "toleransi = 1e-6"
   ]
  },
  {
   "cell_type": "code",
   "execution_count": 11,
   "id": "2a0365df",
   "metadata": {},
   "outputs": [
    {
     "name": "stdout",
     "output_type": "stream",
     "text": [
      "Setelah 1 iterasi, akarnya adalah P1=1.7272727273.\n",
      "Setelah 2 iterasi, akarnya adalah P2=1.6736911737.\n",
      "Setelah 3 iterasi, akarnya adalah P3=1.6717025697.\n",
      "Setelah 4 iterasi, akarnya adalah P4=1.6716998817.\n"
     ]
    }
   ],
   "source": [
    "# Melakukan iterasi Newton-Raphson\n",
    "for i in range(10):\n",
    "    x1 = x0-f_np(x0)/df_np(x0)\n",
    "    if abs(x1-x0)<toleransi:\n",
    "        break\n",
    "    x0 = x1\n",
    "    print(f'Setelah {i+1} iterasi, akarnya adalah P{i+1}={x0:.10f}.')"
   ]
  },
  {
   "cell_type": "markdown",
   "id": "d54af4d6",
   "metadata": {},
   "source": [
    "Terlihat bahwa iterasinya berhenti sampai iterasi ke-4, maka dengan menggunakan metode Newton Raphson dengan titik awal (x0) = 2, akan diperoleh akar atau solusi dari fungsi: x^3-x-3 adalah 1.671699881. Sehingga dapat dikatakan hasilnya adalah konvergen."
   ]
  },
  {
   "cell_type": "markdown",
   "id": "b1b33717",
   "metadata": {},
   "source": [
    "### Plot Fungsi y = x^3 - x - 3"
   ]
  },
  {
   "cell_type": "code",
   "execution_count": 12,
   "id": "62f66b07",
   "metadata": {},
   "outputs": [
    {
     "data": {
      "image/png": "[encoded data removed]",
      "text/plain": [
       "<Figure size 800x600 with 1 Axes>"
      ]
     },
     "metadata": {},
     "output_type": "display_data"
    }
   ],
   "source": [
    "import matplotlib.pyplot as plt\n",
    "import numpy as np\n",
    "\n",
    "# Membuat array nilai x dari -2 hingga 2\n",
    "x = np.linspace(-2, 2, 400)\n",
    "\n",
    "# Menghitung nilai y berdasarkan persamaan x^3 - x - 3\n",
    "y = x**3 - x - 3\n",
    "\n",
    "# Membuat plot\n",
    "plt.figure(figsize=(8, 6))\n",
    "plt.plot(x, y, label='y = x^3 - x - 3')\n",
    "\n",
    "# Menambahkan judul dan label\n",
    "plt.title('Grafik Persamaan x^3 - x - 3')\n",
    "plt.xlabel('x')\n",
    "plt.ylabel('y')\n",
    "\n",
    "# Menampilkan legenda\n",
    "plt.legend()\n",
    "\n",
    "# Menampilkan grid\n",
    "plt.grid(True)\n",
    "\n",
    "# Menampilkan plot\n",
    "plt.show()"
   ]
  },
  {
   "cell_type": "markdown",
   "id": "cbae7fb1",
   "metadata": {},
   "source": [
    "## Kesimpulan\n",
    "\n",
    "Dapat disimpulkan bahwa:\n",
    "\n",
    "1. Dengan Newton Raphson dengan titik awal (x0) = 0 tidak diperoleh akar atau solusi dari fungsi: x^3-x-3, maka hasilnya tidak konvergen.\n",
    "2. Dengan Newton Raphson dengan titik awal (x0) = 2 dapat diperoleh akar atau solusi dari fungsi: x^3-x-3 yaitu 1,671699881, maka hasilnya konvergen.\n",
    "\n",
    "Dengan demikian pengambilan titik awal (x0) sangat mempengaruhi kekonvergenan."
   ]
  }
 ],
 "metadata": {
  "kernelspec": {
   "display_name": "Python 3 (ipykernel)",
   "language": "python",
   "name": "python3"
  },
  "language_info": {
   "codemirror_mode": {
    "name": "ipython",
    "version": 3
   },
   "file_extension": ".py",
   "mimetype": "text/x-python",
   "name": "python",
   "nbconvert_exporter": "python",
   "pygments_lexer": "ipython3",
   "version": "3.9.13"
  }
 },
 "nbformat": 4,
 "nbformat_minor": 5
}
